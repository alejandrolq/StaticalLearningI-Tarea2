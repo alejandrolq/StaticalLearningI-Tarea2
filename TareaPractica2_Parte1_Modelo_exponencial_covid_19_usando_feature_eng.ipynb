{
  "nbformat": 4,
  "nbformat_minor": 0,
  "metadata": {
    "colab": {
      "name": "TareaPractica2-Parte1-Modelo_exponencial_covid-19_usando_feature-eng.ipynb",
      "provenance": [],
      "authorship_tag": "ABX9TyO2uAs3ezNZtw+LU98e1T9O",
      "include_colab_link": true
    },
    "kernelspec": {
      "name": "python3",
      "display_name": "Python 3"
    },
    "language_info": {
      "name": "python"
    }
  },
  "cells": [
    {
      "cell_type": "markdown",
      "metadata": {
        "id": "view-in-github",
        "colab_type": "text"
      },
      "source": [
        "<a href=\"https://colab.research.google.com/github/alejandrolq/StaticalLearningI-Tarea2/blob/main/TareaPractica2_Parte1_Modelo_exponencial_covid_19_usando_feature_eng.ipynb\" target=\"_parent\"><img src=\"https://colab.research.google.com/assets/colab-badge.svg\" alt=\"Open In Colab\"/></a>"
      ]
    },
    {
      "cell_type": "markdown",
      "metadata": {
        "id": "gXq-CigsTkIt"
      },
      "source": [
        "**Nombre: José Alejandro López Quel**\n",
        "\n",
        "**Carné: 21001127**\n",
        "\n",
        "**Statical Learning I**\n",
        "\n",
        "**Sección U**\n",
        "\n",
        "**Tarea Práctica 2 - Parte 1**"
      ]
    },
    {
      "cell_type": "code",
      "metadata": {
        "id": "CZJuih_CTgA3"
      },
      "source": [
        "import numpy as np\n",
        "import pandas as pd\n",
        "import tensorflow as tf\n",
        "from datetime import datetime\n",
        "from matplotlib import pyplot as plt\n",
        "from scipy.stats import norm"
      ],
      "execution_count": 237,
      "outputs": []
    },
    {
      "cell_type": "code",
      "metadata": {
        "colab": {
          "base_uri": "https://localhost:8080/"
        },
        "id": "z5qyfQLwdT21",
        "outputId": "7b9ddd93-4fff-4782-8c7a-2477b55b9a0c"
      },
      "source": [
        "if tf.__version__.startswith(\"2.\"):\n",
        "  import tensorflow.compat.v1 as tf\n",
        "  tf.compat.v1.disable_v2_behavior()\n",
        "  tf.compat.v1.disable_eager_execution()\n",
        "  print(\"Enabled compatitility to tf1.x\")"
      ],
      "execution_count": 238,
      "outputs": [
        {
          "output_type": "stream",
          "text": [
            "Enabled compatitility to tf1.x\n"
          ],
          "name": "stdout"
        }
      ]
    },
    {
      "cell_type": "code",
      "metadata": {
        "colab": {
          "base_uri": "https://localhost:8080/",
          "height": 205
        },
        "id": "phfnl4UkVnb7",
        "outputId": "10b2d707-fca0-46ff-b17a-5d78ecb4180a"
      },
      "source": [
        "covid19_data = pd.read_csv('covid_19_clean_complete.csv')\n",
        "covid19_data[\"Date\"] = pd.to_datetime(covid19_data[\"Date\"],infer_datetime_format = True)\n",
        "covid19_data.head()"
      ],
      "execution_count": 119,
      "outputs": [
        {
          "output_type": "execute_result",
          "data": {
            "text/html": [
              "<div>\n",
              "<style scoped>\n",
              "    .dataframe tbody tr th:only-of-type {\n",
              "        vertical-align: middle;\n",
              "    }\n",
              "\n",
              "    .dataframe tbody tr th {\n",
              "        vertical-align: top;\n",
              "    }\n",
              "\n",
              "    .dataframe thead th {\n",
              "        text-align: right;\n",
              "    }\n",
              "</style>\n",
              "<table border=\"1\" class=\"dataframe\">\n",
              "  <thead>\n",
              "    <tr style=\"text-align: right;\">\n",
              "      <th></th>\n",
              "      <th>Province/State</th>\n",
              "      <th>Country/Region</th>\n",
              "      <th>Lat</th>\n",
              "      <th>Long</th>\n",
              "      <th>Date</th>\n",
              "      <th>Confirmed</th>\n",
              "      <th>Deaths</th>\n",
              "      <th>Recovered</th>\n",
              "    </tr>\n",
              "  </thead>\n",
              "  <tbody>\n",
              "    <tr>\n",
              "      <th>0</th>\n",
              "      <td>NaN</td>\n",
              "      <td>Afghanistan</td>\n",
              "      <td>33.0000</td>\n",
              "      <td>65.0000</td>\n",
              "      <td>2020-01-22</td>\n",
              "      <td>0</td>\n",
              "      <td>0</td>\n",
              "      <td>0</td>\n",
              "    </tr>\n",
              "    <tr>\n",
              "      <th>1</th>\n",
              "      <td>NaN</td>\n",
              "      <td>Albania</td>\n",
              "      <td>41.1533</td>\n",
              "      <td>20.1683</td>\n",
              "      <td>2020-01-22</td>\n",
              "      <td>0</td>\n",
              "      <td>0</td>\n",
              "      <td>0</td>\n",
              "    </tr>\n",
              "    <tr>\n",
              "      <th>2</th>\n",
              "      <td>NaN</td>\n",
              "      <td>Algeria</td>\n",
              "      <td>28.0339</td>\n",
              "      <td>1.6596</td>\n",
              "      <td>2020-01-22</td>\n",
              "      <td>0</td>\n",
              "      <td>0</td>\n",
              "      <td>0</td>\n",
              "    </tr>\n",
              "    <tr>\n",
              "      <th>3</th>\n",
              "      <td>NaN</td>\n",
              "      <td>Andorra</td>\n",
              "      <td>42.5063</td>\n",
              "      <td>1.5218</td>\n",
              "      <td>2020-01-22</td>\n",
              "      <td>0</td>\n",
              "      <td>0</td>\n",
              "      <td>0</td>\n",
              "    </tr>\n",
              "    <tr>\n",
              "      <th>4</th>\n",
              "      <td>NaN</td>\n",
              "      <td>Angola</td>\n",
              "      <td>-11.2027</td>\n",
              "      <td>17.8739</td>\n",
              "      <td>2020-01-22</td>\n",
              "      <td>0</td>\n",
              "      <td>0</td>\n",
              "      <td>0</td>\n",
              "    </tr>\n",
              "  </tbody>\n",
              "</table>\n",
              "</div>"
            ],
            "text/plain": [
              "  Province/State Country/Region      Lat  ...  Confirmed Deaths  Recovered\n",
              "0            NaN    Afghanistan  33.0000  ...          0      0          0\n",
              "1            NaN        Albania  41.1533  ...          0      0          0\n",
              "2            NaN        Algeria  28.0339  ...          0      0          0\n",
              "3            NaN        Andorra  42.5063  ...          0      0          0\n",
              "4            NaN         Angola -11.2027  ...          0      0          0\n",
              "\n",
              "[5 rows x 8 columns]"
            ]
          },
          "metadata": {
            "tags": []
          },
          "execution_count": 119
        }
      ]
    },
    {
      "cell_type": "code",
      "metadata": {
        "colab": {
          "base_uri": "https://localhost:8080/"
        },
        "id": "3_dWMlhpWbYh",
        "outputId": "2a57d6dd-f2f7-403f-ce5e-d11b05b29805"
      },
      "source": [
        "covid19_data.dtypes"
      ],
      "execution_count": 120,
      "outputs": [
        {
          "output_type": "execute_result",
          "data": {
            "text/plain": [
              "Province/State            object\n",
              "Country/Region            object\n",
              "Lat                      float64\n",
              "Long                     float64\n",
              "Date              datetime64[ns]\n",
              "Confirmed                  int64\n",
              "Deaths                     int64\n",
              "Recovered                  int64\n",
              "dtype: object"
            ]
          },
          "metadata": {
            "tags": []
          },
          "execution_count": 120
        }
      ]
    },
    {
      "cell_type": "code",
      "metadata": {
        "colab": {
          "base_uri": "https://localhost:8080/",
          "height": 296
        },
        "id": "Xjk8gVPeWbqO",
        "outputId": "a9f65b6b-f930-44a5-ec09-c96dcdd417d1"
      },
      "source": [
        "GT_confirmed = covid19_data[(covid19_data[\"Country/Region\"] == 'Guatemala') & (covid19_data[\"Confirmed\"] > 0)].copy()\n",
        "GT_confirmed.plot.scatter(x = \"Date\",y=\"Confirmed\")"
      ],
      "execution_count": 121,
      "outputs": [
        {
          "output_type": "execute_result",
          "data": {
            "text/plain": [
              "<matplotlib.axes._subplots.AxesSubplot at 0x7f988aa9cad0>"
            ]
          },
          "metadata": {
            "tags": []
          },
          "execution_count": 121
        },
        {
          "output_type": "display_data",
          "data": {
            "image/png": "[encoded data removed]",
            "text/plain": [
              "<Figure size 432x288 with 1 Axes>"
            ]
          },
          "metadata": {
            "tags": [],
            "needs_background": "light"
          }
        }
      ]
    },
    {
      "cell_type": "code",
      "metadata": {
        "id": "HxZk6m_nfx7-"
      },
      "source": [
        "def transform_dataset(df, ln_column, inv):\n",
        "    if inv:\n",
        "      df[ln_column] = np.e ** (df[\"ln(\"+ln_column+\")\"])\n",
        "    else:\n",
        "      df[\"ln(\"+ln_column+\")\"] = np.log(df[ln_column])\n",
        "    return df"
      ],
      "execution_count": 122,
      "outputs": []
    },
    {
      "cell_type": "code",
      "metadata": {
        "colab": {
          "base_uri": "https://localhost:8080/",
          "height": 296
        },
        "id": "Tv7uFcLBWeSn",
        "outputId": "fafd442d-6ae4-4db8-96fd-16f399e9f632"
      },
      "source": [
        "#GT_confirmed[\"ln(confirmed)\"] = np.log(GT_confirmed[\"Confirmed\"])\n",
        "GT_confirmed = transform_dataset(GT_confirmed, \"Confirmed\", inv=False)\n",
        "GT_confirmed.plot.scatter(x = \"Date\",y=\"ln(Confirmed)\")"
      ],
      "execution_count": 123,
      "outputs": [
        {
          "output_type": "execute_result",
          "data": {
            "text/plain": [
              "<matplotlib.axes._subplots.AxesSubplot at 0x7f988aabf310>"
            ]
          },
          "metadata": {
            "tags": []
          },
          "execution_count": 123
        },
        {
          "output_type": "display_data",
          "data": {
            "image/png": "[encoded data removed]",
            "text/plain": [
              "<Figure size 432x288 with 1 Axes>"
            ]
          },
          "metadata": {
            "tags": [],
            "needs_background": "light"
          }
        }
      ]
    },
    {
      "cell_type": "code",
      "metadata": {
        "colab": {
          "base_uri": "https://localhost:8080/",
          "height": 673
        },
        "id": "sjsnsMgyWh75",
        "outputId": "64ad6cc0-e81e-42e9-a17b-e2f899ebe1d2"
      },
      "source": [
        "GT_confirmed.head(20)"
      ],
      "execution_count": 124,
      "outputs": [
        {
          "output_type": "execute_result",
          "data": {
            "text/html": [
              "<div>\n",
              "<style scoped>\n",
              "    .dataframe tbody tr th:only-of-type {\n",
              "        vertical-align: middle;\n",
              "    }\n",
              "\n",
              "    .dataframe tbody tr th {\n",
              "        vertical-align: top;\n",
              "    }\n",
              "\n",
              "    .dataframe thead th {\n",
              "        text-align: right;\n",
              "    }\n",
              "</style>\n",
              "<table border=\"1\" class=\"dataframe\">\n",
              "  <thead>\n",
              "    <tr style=\"text-align: right;\">\n",
              "      <th></th>\n",
              "      <th>Province/State</th>\n",
              "      <th>Country/Region</th>\n",
              "      <th>Lat</th>\n",
              "      <th>Long</th>\n",
              "      <th>Date</th>\n",
              "      <th>Confirmed</th>\n",
              "      <th>Deaths</th>\n",
              "      <th>Recovered</th>\n",
              "      <th>ln(Confirmed)</th>\n",
              "    </tr>\n",
              "  </thead>\n",
              "  <tbody>\n",
              "    <tr>\n",
              "      <th>13851</th>\n",
              "      <td>NaN</td>\n",
              "      <td>Guatemala</td>\n",
              "      <td>15.7835</td>\n",
              "      <td>-90.2308</td>\n",
              "      <td>2020-03-14</td>\n",
              "      <td>1</td>\n",
              "      <td>0</td>\n",
              "      <td>0</td>\n",
              "      <td>0.000000</td>\n",
              "    </tr>\n",
              "    <tr>\n",
              "      <th>14115</th>\n",
              "      <td>NaN</td>\n",
              "      <td>Guatemala</td>\n",
              "      <td>15.7835</td>\n",
              "      <td>-90.2308</td>\n",
              "      <td>2020-03-15</td>\n",
              "      <td>1</td>\n",
              "      <td>0</td>\n",
              "      <td>0</td>\n",
              "      <td>0.000000</td>\n",
              "    </tr>\n",
              "    <tr>\n",
              "      <th>14379</th>\n",
              "      <td>NaN</td>\n",
              "      <td>Guatemala</td>\n",
              "      <td>15.7835</td>\n",
              "      <td>-90.2308</td>\n",
              "      <td>2020-03-16</td>\n",
              "      <td>2</td>\n",
              "      <td>1</td>\n",
              "      <td>0</td>\n",
              "      <td>0.693147</td>\n",
              "    </tr>\n",
              "    <tr>\n",
              "      <th>14643</th>\n",
              "      <td>NaN</td>\n",
              "      <td>Guatemala</td>\n",
              "      <td>15.7835</td>\n",
              "      <td>-90.2308</td>\n",
              "      <td>2020-03-17</td>\n",
              "      <td>6</td>\n",
              "      <td>1</td>\n",
              "      <td>0</td>\n",
              "      <td>1.791759</td>\n",
              "    </tr>\n",
              "    <tr>\n",
              "      <th>14907</th>\n",
              "      <td>NaN</td>\n",
              "      <td>Guatemala</td>\n",
              "      <td>15.7835</td>\n",
              "      <td>-90.2308</td>\n",
              "      <td>2020-03-18</td>\n",
              "      <td>6</td>\n",
              "      <td>1</td>\n",
              "      <td>0</td>\n",
              "      <td>1.791759</td>\n",
              "    </tr>\n",
              "    <tr>\n",
              "      <th>15171</th>\n",
              "      <td>NaN</td>\n",
              "      <td>Guatemala</td>\n",
              "      <td>15.7835</td>\n",
              "      <td>-90.2308</td>\n",
              "      <td>2020-03-19</td>\n",
              "      <td>9</td>\n",
              "      <td>1</td>\n",
              "      <td>0</td>\n",
              "      <td>2.197225</td>\n",
              "    </tr>\n",
              "    <tr>\n",
              "      <th>15435</th>\n",
              "      <td>NaN</td>\n",
              "      <td>Guatemala</td>\n",
              "      <td>15.7835</td>\n",
              "      <td>-90.2308</td>\n",
              "      <td>2020-03-20</td>\n",
              "      <td>12</td>\n",
              "      <td>1</td>\n",
              "      <td>0</td>\n",
              "      <td>2.484907</td>\n",
              "    </tr>\n",
              "    <tr>\n",
              "      <th>15699</th>\n",
              "      <td>NaN</td>\n",
              "      <td>Guatemala</td>\n",
              "      <td>15.7835</td>\n",
              "      <td>-90.2308</td>\n",
              "      <td>2020-03-21</td>\n",
              "      <td>17</td>\n",
              "      <td>1</td>\n",
              "      <td>0</td>\n",
              "      <td>2.833213</td>\n",
              "    </tr>\n",
              "    <tr>\n",
              "      <th>15963</th>\n",
              "      <td>NaN</td>\n",
              "      <td>Guatemala</td>\n",
              "      <td>15.7835</td>\n",
              "      <td>-90.2308</td>\n",
              "      <td>2020-03-22</td>\n",
              "      <td>19</td>\n",
              "      <td>1</td>\n",
              "      <td>0</td>\n",
              "      <td>2.944439</td>\n",
              "    </tr>\n",
              "    <tr>\n",
              "      <th>16227</th>\n",
              "      <td>NaN</td>\n",
              "      <td>Guatemala</td>\n",
              "      <td>15.7835</td>\n",
              "      <td>-90.2308</td>\n",
              "      <td>2020-03-23</td>\n",
              "      <td>20</td>\n",
              "      <td>1</td>\n",
              "      <td>0</td>\n",
              "      <td>2.995732</td>\n",
              "    </tr>\n",
              "    <tr>\n",
              "      <th>16491</th>\n",
              "      <td>NaN</td>\n",
              "      <td>Guatemala</td>\n",
              "      <td>15.7835</td>\n",
              "      <td>-90.2308</td>\n",
              "      <td>2020-03-24</td>\n",
              "      <td>21</td>\n",
              "      <td>1</td>\n",
              "      <td>0</td>\n",
              "      <td>3.044522</td>\n",
              "    </tr>\n",
              "    <tr>\n",
              "      <th>16755</th>\n",
              "      <td>NaN</td>\n",
              "      <td>Guatemala</td>\n",
              "      <td>15.7835</td>\n",
              "      <td>-90.2308</td>\n",
              "      <td>2020-03-25</td>\n",
              "      <td>24</td>\n",
              "      <td>1</td>\n",
              "      <td>4</td>\n",
              "      <td>3.178054</td>\n",
              "    </tr>\n",
              "    <tr>\n",
              "      <th>17019</th>\n",
              "      <td>NaN</td>\n",
              "      <td>Guatemala</td>\n",
              "      <td>15.7835</td>\n",
              "      <td>-90.2308</td>\n",
              "      <td>2020-03-26</td>\n",
              "      <td>25</td>\n",
              "      <td>1</td>\n",
              "      <td>4</td>\n",
              "      <td>3.218876</td>\n",
              "    </tr>\n",
              "    <tr>\n",
              "      <th>17283</th>\n",
              "      <td>NaN</td>\n",
              "      <td>Guatemala</td>\n",
              "      <td>15.7835</td>\n",
              "      <td>-90.2308</td>\n",
              "      <td>2020-03-27</td>\n",
              "      <td>28</td>\n",
              "      <td>1</td>\n",
              "      <td>4</td>\n",
              "      <td>3.332205</td>\n",
              "    </tr>\n",
              "    <tr>\n",
              "      <th>17547</th>\n",
              "      <td>NaN</td>\n",
              "      <td>Guatemala</td>\n",
              "      <td>15.7835</td>\n",
              "      <td>-90.2308</td>\n",
              "      <td>2020-03-28</td>\n",
              "      <td>34</td>\n",
              "      <td>1</td>\n",
              "      <td>10</td>\n",
              "      <td>3.526361</td>\n",
              "    </tr>\n",
              "    <tr>\n",
              "      <th>17811</th>\n",
              "      <td>NaN</td>\n",
              "      <td>Guatemala</td>\n",
              "      <td>15.7835</td>\n",
              "      <td>-90.2308</td>\n",
              "      <td>2020-03-29</td>\n",
              "      <td>34</td>\n",
              "      <td>1</td>\n",
              "      <td>10</td>\n",
              "      <td>3.526361</td>\n",
              "    </tr>\n",
              "    <tr>\n",
              "      <th>18075</th>\n",
              "      <td>NaN</td>\n",
              "      <td>Guatemala</td>\n",
              "      <td>15.7835</td>\n",
              "      <td>-90.2308</td>\n",
              "      <td>2020-03-30</td>\n",
              "      <td>36</td>\n",
              "      <td>1</td>\n",
              "      <td>10</td>\n",
              "      <td>3.583519</td>\n",
              "    </tr>\n",
              "    <tr>\n",
              "      <th>18339</th>\n",
              "      <td>NaN</td>\n",
              "      <td>Guatemala</td>\n",
              "      <td>15.7835</td>\n",
              "      <td>-90.2308</td>\n",
              "      <td>2020-03-31</td>\n",
              "      <td>38</td>\n",
              "      <td>1</td>\n",
              "      <td>12</td>\n",
              "      <td>3.637586</td>\n",
              "    </tr>\n",
              "    <tr>\n",
              "      <th>18603</th>\n",
              "      <td>NaN</td>\n",
              "      <td>Guatemala</td>\n",
              "      <td>15.7835</td>\n",
              "      <td>-90.2308</td>\n",
              "      <td>2020-04-01</td>\n",
              "      <td>39</td>\n",
              "      <td>1</td>\n",
              "      <td>12</td>\n",
              "      <td>3.663562</td>\n",
              "    </tr>\n",
              "    <tr>\n",
              "      <th>18867</th>\n",
              "      <td>NaN</td>\n",
              "      <td>Guatemala</td>\n",
              "      <td>15.7835</td>\n",
              "      <td>-90.2308</td>\n",
              "      <td>2020-04-02</td>\n",
              "      <td>47</td>\n",
              "      <td>1</td>\n",
              "      <td>12</td>\n",
              "      <td>3.850148</td>\n",
              "    </tr>\n",
              "  </tbody>\n",
              "</table>\n",
              "</div>"
            ],
            "text/plain": [
              "      Province/State Country/Region      Lat  ...  Deaths Recovered  ln(Confirmed)\n",
              "13851            NaN      Guatemala  15.7835  ...       0         0       0.000000\n",
              "14115            NaN      Guatemala  15.7835  ...       0         0       0.000000\n",
              "14379            NaN      Guatemala  15.7835  ...       1         0       0.693147\n",
              "14643            NaN      Guatemala  15.7835  ...       1         0       1.791759\n",
              "14907            NaN      Guatemala  15.7835  ...       1         0       1.791759\n",
              "15171            NaN      Guatemala  15.7835  ...       1         0       2.197225\n",
              "15435            NaN      Guatemala  15.7835  ...       1         0       2.484907\n",
              "15699            NaN      Guatemala  15.7835  ...       1         0       2.833213\n",
              "15963            NaN      Guatemala  15.7835  ...       1         0       2.944439\n",
              "16227            NaN      Guatemala  15.7835  ...       1         0       2.995732\n",
              "16491            NaN      Guatemala  15.7835  ...       1         0       3.044522\n",
              "16755            NaN      Guatemala  15.7835  ...       1         4       3.178054\n",
              "17019            NaN      Guatemala  15.7835  ...       1         4       3.218876\n",
              "17283            NaN      Guatemala  15.7835  ...       1         4       3.332205\n",
              "17547            NaN      Guatemala  15.7835  ...       1        10       3.526361\n",
              "17811            NaN      Guatemala  15.7835  ...       1        10       3.526361\n",
              "18075            NaN      Guatemala  15.7835  ...       1        10       3.583519\n",
              "18339            NaN      Guatemala  15.7835  ...       1        12       3.637586\n",
              "18603            NaN      Guatemala  15.7835  ...       1        12       3.663562\n",
              "18867            NaN      Guatemala  15.7835  ...       1        12       3.850148\n",
              "\n",
              "[20 rows x 9 columns]"
            ]
          },
          "metadata": {
            "tags": []
          },
          "execution_count": 124
        }
      ]
    },
    {
      "cell_type": "code",
      "metadata": {
        "colab": {
          "base_uri": "https://localhost:8080/",
          "height": 296
        },
        "id": "hmtv9paIWlPg",
        "outputId": "c8936529-a9c8-4d92-f73b-c571c8ba6fc3"
      },
      "source": [
        "GT_confirmed_post24 = GT_confirmed[GT_confirmed.Date >= '2020-03-22']\n",
        "GT_confirmed_post24.plot.scatter(x = \"Date\",y=\"ln(Confirmed)\")"
      ],
      "execution_count": 125,
      "outputs": [
        {
          "output_type": "execute_result",
          "data": {
            "text/plain": [
              "<matplotlib.axes._subplots.AxesSubplot at 0x7f988a962750>"
            ]
          },
          "metadata": {
            "tags": []
          },
          "execution_count": 125
        },
        {
          "output_type": "display_data",
          "data": {
            "image/png": "[encoded data removed]",
            "text/plain": [
              "<Figure size 432x288 with 1 Axes>"
            ]
          },
          "metadata": {
            "tags": [],
            "needs_background": "light"
          }
        }
      ]
    },
    {
      "cell_type": "code",
      "metadata": {
        "colab": {
          "base_uri": "https://localhost:8080/",
          "height": 673
        },
        "id": "iPMgCpHLWqxG",
        "outputId": "6fc9375f-8a7e-41ea-e356-f5882d6fa89a"
      },
      "source": [
        "GT_confirmed_post24.head(20)"
      ],
      "execution_count": 126,
      "outputs": [
        {
          "output_type": "execute_result",
          "data": {
            "text/html": [
              "<div>\n",
              "<style scoped>\n",
              "    .dataframe tbody tr th:only-of-type {\n",
              "        vertical-align: middle;\n",
              "    }\n",
              "\n",
              "    .dataframe tbody tr th {\n",
              "        vertical-align: top;\n",
              "    }\n",
              "\n",
              "    .dataframe thead th {\n",
              "        text-align: right;\n",
              "    }\n",
              "</style>\n",
              "<table border=\"1\" class=\"dataframe\">\n",
              "  <thead>\n",
              "    <tr style=\"text-align: right;\">\n",
              "      <th></th>\n",
              "      <th>Province/State</th>\n",
              "      <th>Country/Region</th>\n",
              "      <th>Lat</th>\n",
              "      <th>Long</th>\n",
              "      <th>Date</th>\n",
              "      <th>Confirmed</th>\n",
              "      <th>Deaths</th>\n",
              "      <th>Recovered</th>\n",
              "      <th>ln(Confirmed)</th>\n",
              "    </tr>\n",
              "  </thead>\n",
              "  <tbody>\n",
              "    <tr>\n",
              "      <th>15963</th>\n",
              "      <td>NaN</td>\n",
              "      <td>Guatemala</td>\n",
              "      <td>15.7835</td>\n",
              "      <td>-90.2308</td>\n",
              "      <td>2020-03-22</td>\n",
              "      <td>19</td>\n",
              "      <td>1</td>\n",
              "      <td>0</td>\n",
              "      <td>2.944439</td>\n",
              "    </tr>\n",
              "    <tr>\n",
              "      <th>16227</th>\n",
              "      <td>NaN</td>\n",
              "      <td>Guatemala</td>\n",
              "      <td>15.7835</td>\n",
              "      <td>-90.2308</td>\n",
              "      <td>2020-03-23</td>\n",
              "      <td>20</td>\n",
              "      <td>1</td>\n",
              "      <td>0</td>\n",
              "      <td>2.995732</td>\n",
              "    </tr>\n",
              "    <tr>\n",
              "      <th>16491</th>\n",
              "      <td>NaN</td>\n",
              "      <td>Guatemala</td>\n",
              "      <td>15.7835</td>\n",
              "      <td>-90.2308</td>\n",
              "      <td>2020-03-24</td>\n",
              "      <td>21</td>\n",
              "      <td>1</td>\n",
              "      <td>0</td>\n",
              "      <td>3.044522</td>\n",
              "    </tr>\n",
              "    <tr>\n",
              "      <th>16755</th>\n",
              "      <td>NaN</td>\n",
              "      <td>Guatemala</td>\n",
              "      <td>15.7835</td>\n",
              "      <td>-90.2308</td>\n",
              "      <td>2020-03-25</td>\n",
              "      <td>24</td>\n",
              "      <td>1</td>\n",
              "      <td>4</td>\n",
              "      <td>3.178054</td>\n",
              "    </tr>\n",
              "    <tr>\n",
              "      <th>17019</th>\n",
              "      <td>NaN</td>\n",
              "      <td>Guatemala</td>\n",
              "      <td>15.7835</td>\n",
              "      <td>-90.2308</td>\n",
              "      <td>2020-03-26</td>\n",
              "      <td>25</td>\n",
              "      <td>1</td>\n",
              "      <td>4</td>\n",
              "      <td>3.218876</td>\n",
              "    </tr>\n",
              "    <tr>\n",
              "      <th>17283</th>\n",
              "      <td>NaN</td>\n",
              "      <td>Guatemala</td>\n",
              "      <td>15.7835</td>\n",
              "      <td>-90.2308</td>\n",
              "      <td>2020-03-27</td>\n",
              "      <td>28</td>\n",
              "      <td>1</td>\n",
              "      <td>4</td>\n",
              "      <td>3.332205</td>\n",
              "    </tr>\n",
              "    <tr>\n",
              "      <th>17547</th>\n",
              "      <td>NaN</td>\n",
              "      <td>Guatemala</td>\n",
              "      <td>15.7835</td>\n",
              "      <td>-90.2308</td>\n",
              "      <td>2020-03-28</td>\n",
              "      <td>34</td>\n",
              "      <td>1</td>\n",
              "      <td>10</td>\n",
              "      <td>3.526361</td>\n",
              "    </tr>\n",
              "    <tr>\n",
              "      <th>17811</th>\n",
              "      <td>NaN</td>\n",
              "      <td>Guatemala</td>\n",
              "      <td>15.7835</td>\n",
              "      <td>-90.2308</td>\n",
              "      <td>2020-03-29</td>\n",
              "      <td>34</td>\n",
              "      <td>1</td>\n",
              "      <td>10</td>\n",
              "      <td>3.526361</td>\n",
              "    </tr>\n",
              "    <tr>\n",
              "      <th>18075</th>\n",
              "      <td>NaN</td>\n",
              "      <td>Guatemala</td>\n",
              "      <td>15.7835</td>\n",
              "      <td>-90.2308</td>\n",
              "      <td>2020-03-30</td>\n",
              "      <td>36</td>\n",
              "      <td>1</td>\n",
              "      <td>10</td>\n",
              "      <td>3.583519</td>\n",
              "    </tr>\n",
              "    <tr>\n",
              "      <th>18339</th>\n",
              "      <td>NaN</td>\n",
              "      <td>Guatemala</td>\n",
              "      <td>15.7835</td>\n",
              "      <td>-90.2308</td>\n",
              "      <td>2020-03-31</td>\n",
              "      <td>38</td>\n",
              "      <td>1</td>\n",
              "      <td>12</td>\n",
              "      <td>3.637586</td>\n",
              "    </tr>\n",
              "    <tr>\n",
              "      <th>18603</th>\n",
              "      <td>NaN</td>\n",
              "      <td>Guatemala</td>\n",
              "      <td>15.7835</td>\n",
              "      <td>-90.2308</td>\n",
              "      <td>2020-04-01</td>\n",
              "      <td>39</td>\n",
              "      <td>1</td>\n",
              "      <td>12</td>\n",
              "      <td>3.663562</td>\n",
              "    </tr>\n",
              "    <tr>\n",
              "      <th>18867</th>\n",
              "      <td>NaN</td>\n",
              "      <td>Guatemala</td>\n",
              "      <td>15.7835</td>\n",
              "      <td>-90.2308</td>\n",
              "      <td>2020-04-02</td>\n",
              "      <td>47</td>\n",
              "      <td>1</td>\n",
              "      <td>12</td>\n",
              "      <td>3.850148</td>\n",
              "    </tr>\n",
              "    <tr>\n",
              "      <th>19131</th>\n",
              "      <td>NaN</td>\n",
              "      <td>Guatemala</td>\n",
              "      <td>15.7835</td>\n",
              "      <td>-90.2308</td>\n",
              "      <td>2020-04-03</td>\n",
              "      <td>50</td>\n",
              "      <td>1</td>\n",
              "      <td>12</td>\n",
              "      <td>3.912023</td>\n",
              "    </tr>\n",
              "    <tr>\n",
              "      <th>19395</th>\n",
              "      <td>NaN</td>\n",
              "      <td>Guatemala</td>\n",
              "      <td>15.7835</td>\n",
              "      <td>-90.2308</td>\n",
              "      <td>2020-04-04</td>\n",
              "      <td>61</td>\n",
              "      <td>2</td>\n",
              "      <td>15</td>\n",
              "      <td>4.110874</td>\n",
              "    </tr>\n",
              "    <tr>\n",
              "      <th>19659</th>\n",
              "      <td>NaN</td>\n",
              "      <td>Guatemala</td>\n",
              "      <td>15.7835</td>\n",
              "      <td>-90.2308</td>\n",
              "      <td>2020-04-05</td>\n",
              "      <td>61</td>\n",
              "      <td>2</td>\n",
              "      <td>15</td>\n",
              "      <td>4.110874</td>\n",
              "    </tr>\n",
              "    <tr>\n",
              "      <th>19923</th>\n",
              "      <td>NaN</td>\n",
              "      <td>Guatemala</td>\n",
              "      <td>15.7835</td>\n",
              "      <td>-90.2308</td>\n",
              "      <td>2020-04-06</td>\n",
              "      <td>70</td>\n",
              "      <td>3</td>\n",
              "      <td>15</td>\n",
              "      <td>4.248495</td>\n",
              "    </tr>\n",
              "    <tr>\n",
              "      <th>20187</th>\n",
              "      <td>NaN</td>\n",
              "      <td>Guatemala</td>\n",
              "      <td>15.7835</td>\n",
              "      <td>-90.2308</td>\n",
              "      <td>2020-04-07</td>\n",
              "      <td>77</td>\n",
              "      <td>3</td>\n",
              "      <td>17</td>\n",
              "      <td>4.343805</td>\n",
              "    </tr>\n",
              "    <tr>\n",
              "      <th>20451</th>\n",
              "      <td>NaN</td>\n",
              "      <td>Guatemala</td>\n",
              "      <td>15.7835</td>\n",
              "      <td>-90.2308</td>\n",
              "      <td>2020-04-08</td>\n",
              "      <td>87</td>\n",
              "      <td>3</td>\n",
              "      <td>17</td>\n",
              "      <td>4.465908</td>\n",
              "    </tr>\n",
              "    <tr>\n",
              "      <th>20715</th>\n",
              "      <td>NaN</td>\n",
              "      <td>Guatemala</td>\n",
              "      <td>15.7835</td>\n",
              "      <td>-90.2308</td>\n",
              "      <td>2020-04-09</td>\n",
              "      <td>95</td>\n",
              "      <td>3</td>\n",
              "      <td>17</td>\n",
              "      <td>4.553877</td>\n",
              "    </tr>\n",
              "    <tr>\n",
              "      <th>20979</th>\n",
              "      <td>NaN</td>\n",
              "      <td>Guatemala</td>\n",
              "      <td>15.7835</td>\n",
              "      <td>-90.2308</td>\n",
              "      <td>2020-04-10</td>\n",
              "      <td>126</td>\n",
              "      <td>3</td>\n",
              "      <td>17</td>\n",
              "      <td>4.836282</td>\n",
              "    </tr>\n",
              "  </tbody>\n",
              "</table>\n",
              "</div>"
            ],
            "text/plain": [
              "      Province/State Country/Region      Lat  ...  Deaths Recovered  ln(Confirmed)\n",
              "15963            NaN      Guatemala  15.7835  ...       1         0       2.944439\n",
              "16227            NaN      Guatemala  15.7835  ...       1         0       2.995732\n",
              "16491            NaN      Guatemala  15.7835  ...       1         0       3.044522\n",
              "16755            NaN      Guatemala  15.7835  ...       1         4       3.178054\n",
              "17019            NaN      Guatemala  15.7835  ...       1         4       3.218876\n",
              "17283            NaN      Guatemala  15.7835  ...       1         4       3.332205\n",
              "17547            NaN      Guatemala  15.7835  ...       1        10       3.526361\n",
              "17811            NaN      Guatemala  15.7835  ...       1        10       3.526361\n",
              "18075            NaN      Guatemala  15.7835  ...       1        10       3.583519\n",
              "18339            NaN      Guatemala  15.7835  ...       1        12       3.637586\n",
              "18603            NaN      Guatemala  15.7835  ...       1        12       3.663562\n",
              "18867            NaN      Guatemala  15.7835  ...       1        12       3.850148\n",
              "19131            NaN      Guatemala  15.7835  ...       1        12       3.912023\n",
              "19395            NaN      Guatemala  15.7835  ...       2        15       4.110874\n",
              "19659            NaN      Guatemala  15.7835  ...       2        15       4.110874\n",
              "19923            NaN      Guatemala  15.7835  ...       3        15       4.248495\n",
              "20187            NaN      Guatemala  15.7835  ...       3        17       4.343805\n",
              "20451            NaN      Guatemala  15.7835  ...       3        17       4.465908\n",
              "20715            NaN      Guatemala  15.7835  ...       3        17       4.553877\n",
              "20979            NaN      Guatemala  15.7835  ...       3        17       4.836282\n",
              "\n",
              "[20 rows x 9 columns]"
            ]
          },
          "metadata": {
            "tags": []
          },
          "execution_count": 126
        }
      ]
    },
    {
      "cell_type": "code",
      "metadata": {
        "colab": {
          "base_uri": "https://localhost:8080/",
          "height": 205
        },
        "id": "pDq-OdAqaT-R",
        "outputId": "330ce17c-e995-4bb5-b2b5-09b70d7421ef"
      },
      "source": [
        "GT_confirmed_clean_sorted = GT_confirmed_post24.sort_values(by=\"Date\")\n",
        "GT_confirmed_clean_sorted.head(5)"
      ],
      "execution_count": 129,
      "outputs": [
        {
          "output_type": "execute_result",
          "data": {
            "text/html": [
              "<div>\n",
              "<style scoped>\n",
              "    .dataframe tbody tr th:only-of-type {\n",
              "        vertical-align: middle;\n",
              "    }\n",
              "\n",
              "    .dataframe tbody tr th {\n",
              "        vertical-align: top;\n",
              "    }\n",
              "\n",
              "    .dataframe thead th {\n",
              "        text-align: right;\n",
              "    }\n",
              "</style>\n",
              "<table border=\"1\" class=\"dataframe\">\n",
              "  <thead>\n",
              "    <tr style=\"text-align: right;\">\n",
              "      <th></th>\n",
              "      <th>Province/State</th>\n",
              "      <th>Country/Region</th>\n",
              "      <th>Lat</th>\n",
              "      <th>Long</th>\n",
              "      <th>Date</th>\n",
              "      <th>Confirmed</th>\n",
              "      <th>Deaths</th>\n",
              "      <th>Recovered</th>\n",
              "      <th>ln(Confirmed)</th>\n",
              "    </tr>\n",
              "  </thead>\n",
              "  <tbody>\n",
              "    <tr>\n",
              "      <th>15963</th>\n",
              "      <td>NaN</td>\n",
              "      <td>Guatemala</td>\n",
              "      <td>15.7835</td>\n",
              "      <td>-90.2308</td>\n",
              "      <td>2020-03-22</td>\n",
              "      <td>19</td>\n",
              "      <td>1</td>\n",
              "      <td>0</td>\n",
              "      <td>2.944439</td>\n",
              "    </tr>\n",
              "    <tr>\n",
              "      <th>16227</th>\n",
              "      <td>NaN</td>\n",
              "      <td>Guatemala</td>\n",
              "      <td>15.7835</td>\n",
              "      <td>-90.2308</td>\n",
              "      <td>2020-03-23</td>\n",
              "      <td>20</td>\n",
              "      <td>1</td>\n",
              "      <td>0</td>\n",
              "      <td>2.995732</td>\n",
              "    </tr>\n",
              "    <tr>\n",
              "      <th>16491</th>\n",
              "      <td>NaN</td>\n",
              "      <td>Guatemala</td>\n",
              "      <td>15.7835</td>\n",
              "      <td>-90.2308</td>\n",
              "      <td>2020-03-24</td>\n",
              "      <td>21</td>\n",
              "      <td>1</td>\n",
              "      <td>0</td>\n",
              "      <td>3.044522</td>\n",
              "    </tr>\n",
              "    <tr>\n",
              "      <th>16755</th>\n",
              "      <td>NaN</td>\n",
              "      <td>Guatemala</td>\n",
              "      <td>15.7835</td>\n",
              "      <td>-90.2308</td>\n",
              "      <td>2020-03-25</td>\n",
              "      <td>24</td>\n",
              "      <td>1</td>\n",
              "      <td>4</td>\n",
              "      <td>3.178054</td>\n",
              "    </tr>\n",
              "    <tr>\n",
              "      <th>17019</th>\n",
              "      <td>NaN</td>\n",
              "      <td>Guatemala</td>\n",
              "      <td>15.7835</td>\n",
              "      <td>-90.2308</td>\n",
              "      <td>2020-03-26</td>\n",
              "      <td>25</td>\n",
              "      <td>1</td>\n",
              "      <td>4</td>\n",
              "      <td>3.218876</td>\n",
              "    </tr>\n",
              "  </tbody>\n",
              "</table>\n",
              "</div>"
            ],
            "text/plain": [
              "      Province/State Country/Region      Lat  ...  Deaths Recovered  ln(Confirmed)\n",
              "15963            NaN      Guatemala  15.7835  ...       1         0       2.944439\n",
              "16227            NaN      Guatemala  15.7835  ...       1         0       2.995732\n",
              "16491            NaN      Guatemala  15.7835  ...       1         0       3.044522\n",
              "16755            NaN      Guatemala  15.7835  ...       1         4       3.178054\n",
              "17019            NaN      Guatemala  15.7835  ...       1         4       3.218876\n",
              "\n",
              "[5 rows x 9 columns]"
            ]
          },
          "metadata": {
            "tags": []
          },
          "execution_count": 129
        }
      ]
    },
    {
      "cell_type": "code",
      "metadata": {
        "colab": {
          "base_uri": "https://localhost:8080/",
          "height": 205
        },
        "id": "kjM988pEa-qK",
        "outputId": "1c43686e-a77f-42fb-fd0c-94141b3b7509"
      },
      "source": [
        "GT_confirmed_clean_sorted = GT_confirmed_clean_sorted.reset_index()\n",
        "GT_confirmed_clean_sorted['Nday'] = GT_confirmed_clean_sorted.index\n",
        "GT_confirmed_clean_sorted.head(5)"
      ],
      "execution_count": 130,
      "outputs": [
        {
          "output_type": "execute_result",
          "data": {
            "text/html": [
              "<div>\n",
              "<style scoped>\n",
              "    .dataframe tbody tr th:only-of-type {\n",
              "        vertical-align: middle;\n",
              "    }\n",
              "\n",
              "    .dataframe tbody tr th {\n",
              "        vertical-align: top;\n",
              "    }\n",
              "\n",
              "    .dataframe thead th {\n",
              "        text-align: right;\n",
              "    }\n",
              "</style>\n",
              "<table border=\"1\" class=\"dataframe\">\n",
              "  <thead>\n",
              "    <tr style=\"text-align: right;\">\n",
              "      <th></th>\n",
              "      <th>index</th>\n",
              "      <th>Province/State</th>\n",
              "      <th>Country/Region</th>\n",
              "      <th>Lat</th>\n",
              "      <th>Long</th>\n",
              "      <th>Date</th>\n",
              "      <th>Confirmed</th>\n",
              "      <th>Deaths</th>\n",
              "      <th>Recovered</th>\n",
              "      <th>ln(Confirmed)</th>\n",
              "      <th>Nday</th>\n",
              "    </tr>\n",
              "  </thead>\n",
              "  <tbody>\n",
              "    <tr>\n",
              "      <th>0</th>\n",
              "      <td>15963</td>\n",
              "      <td>NaN</td>\n",
              "      <td>Guatemala</td>\n",
              "      <td>15.7835</td>\n",
              "      <td>-90.2308</td>\n",
              "      <td>2020-03-22</td>\n",
              "      <td>19</td>\n",
              "      <td>1</td>\n",
              "      <td>0</td>\n",
              "      <td>2.944439</td>\n",
              "      <td>0</td>\n",
              "    </tr>\n",
              "    <tr>\n",
              "      <th>1</th>\n",
              "      <td>16227</td>\n",
              "      <td>NaN</td>\n",
              "      <td>Guatemala</td>\n",
              "      <td>15.7835</td>\n",
              "      <td>-90.2308</td>\n",
              "      <td>2020-03-23</td>\n",
              "      <td>20</td>\n",
              "      <td>1</td>\n",
              "      <td>0</td>\n",
              "      <td>2.995732</td>\n",
              "      <td>1</td>\n",
              "    </tr>\n",
              "    <tr>\n",
              "      <th>2</th>\n",
              "      <td>16491</td>\n",
              "      <td>NaN</td>\n",
              "      <td>Guatemala</td>\n",
              "      <td>15.7835</td>\n",
              "      <td>-90.2308</td>\n",
              "      <td>2020-03-24</td>\n",
              "      <td>21</td>\n",
              "      <td>1</td>\n",
              "      <td>0</td>\n",
              "      <td>3.044522</td>\n",
              "      <td>2</td>\n",
              "    </tr>\n",
              "    <tr>\n",
              "      <th>3</th>\n",
              "      <td>16755</td>\n",
              "      <td>NaN</td>\n",
              "      <td>Guatemala</td>\n",
              "      <td>15.7835</td>\n",
              "      <td>-90.2308</td>\n",
              "      <td>2020-03-25</td>\n",
              "      <td>24</td>\n",
              "      <td>1</td>\n",
              "      <td>4</td>\n",
              "      <td>3.178054</td>\n",
              "      <td>3</td>\n",
              "    </tr>\n",
              "    <tr>\n",
              "      <th>4</th>\n",
              "      <td>17019</td>\n",
              "      <td>NaN</td>\n",
              "      <td>Guatemala</td>\n",
              "      <td>15.7835</td>\n",
              "      <td>-90.2308</td>\n",
              "      <td>2020-03-26</td>\n",
              "      <td>25</td>\n",
              "      <td>1</td>\n",
              "      <td>4</td>\n",
              "      <td>3.218876</td>\n",
              "      <td>4</td>\n",
              "    </tr>\n",
              "  </tbody>\n",
              "</table>\n",
              "</div>"
            ],
            "text/plain": [
              "   index Province/State Country/Region  ...  Recovered  ln(Confirmed) Nday\n",
              "0  15963            NaN      Guatemala  ...          0       2.944439    0\n",
              "1  16227            NaN      Guatemala  ...          0       2.995732    1\n",
              "2  16491            NaN      Guatemala  ...          0       3.044522    2\n",
              "3  16755            NaN      Guatemala  ...          4       3.178054    3\n",
              "4  17019            NaN      Guatemala  ...          4       3.218876    4\n",
              "\n",
              "[5 rows x 11 columns]"
            ]
          },
          "metadata": {
            "tags": []
          },
          "execution_count": 130
        }
      ]
    },
    {
      "cell_type": "code",
      "metadata": {
        "colab": {
          "base_uri": "https://localhost:8080/",
          "height": 296
        },
        "id": "gVUGdgW7bSoM",
        "outputId": "f0d71d26-e109-4593-90d6-bc60a211952c"
      },
      "source": [
        "GT_confirmed_clean_sorted.plot.scatter(x = \"Nday\",y=\"ln(Confirmed)\")"
      ],
      "execution_count": 131,
      "outputs": [
        {
          "output_type": "execute_result",
          "data": {
            "text/plain": [
              "<matplotlib.axes._subplots.AxesSubplot at 0x7f988a8e1750>"
            ]
          },
          "metadata": {
            "tags": []
          },
          "execution_count": 131
        },
        {
          "output_type": "display_data",
          "data": {
            "image/png": "[encoded data removed]",
            "text/plain": [
              "<Figure size 432x288 with 1 Axes>"
            ]
          },
          "metadata": {
            "tags": [],
            "needs_background": "light"
          }
        }
      ]
    },
    {
      "cell_type": "code",
      "metadata": {
        "colab": {
          "base_uri": "https://localhost:8080/",
          "height": 208
        },
        "id": "zELB8DXoc_Os",
        "outputId": "d74de742-511f-4f38-bc88-757b3344aa40"
      },
      "source": [
        "#Realizando una copia del slicing de los datos originales\n",
        "training = GT_confirmed_clean_sorted[:int((len(GT_confirmed_clean_sorted))*0.8)].copy()\n",
        "validation = GT_confirmed_clean_sorted[-int((len(GT_confirmed_clean_sorted))*0.2):].copy()\n",
        "print(len(training))\n",
        "print(len(validation))\n",
        "training.head(4)"
      ],
      "execution_count": 132,
      "outputs": [
        {
          "output_type": "stream",
          "text": [
            "40\n",
            "10\n"
          ],
          "name": "stdout"
        },
        {
          "output_type": "execute_result",
          "data": {
            "text/html": [
              "<div>\n",
              "<style scoped>\n",
              "    .dataframe tbody tr th:only-of-type {\n",
              "        vertical-align: middle;\n",
              "    }\n",
              "\n",
              "    .dataframe tbody tr th {\n",
              "        vertical-align: top;\n",
              "    }\n",
              "\n",
              "    .dataframe thead th {\n",
              "        text-align: right;\n",
              "    }\n",
              "</style>\n",
              "<table border=\"1\" class=\"dataframe\">\n",
              "  <thead>\n",
              "    <tr style=\"text-align: right;\">\n",
              "      <th></th>\n",
              "      <th>index</th>\n",
              "      <th>Province/State</th>\n",
              "      <th>Country/Region</th>\n",
              "      <th>Lat</th>\n",
              "      <th>Long</th>\n",
              "      <th>Date</th>\n",
              "      <th>Confirmed</th>\n",
              "      <th>Deaths</th>\n",
              "      <th>Recovered</th>\n",
              "      <th>ln(Confirmed)</th>\n",
              "      <th>Nday</th>\n",
              "    </tr>\n",
              "  </thead>\n",
              "  <tbody>\n",
              "    <tr>\n",
              "      <th>0</th>\n",
              "      <td>15963</td>\n",
              "      <td>NaN</td>\n",
              "      <td>Guatemala</td>\n",
              "      <td>15.7835</td>\n",
              "      <td>-90.2308</td>\n",
              "      <td>2020-03-22</td>\n",
              "      <td>19</td>\n",
              "      <td>1</td>\n",
              "      <td>0</td>\n",
              "      <td>2.944439</td>\n",
              "      <td>0</td>\n",
              "    </tr>\n",
              "    <tr>\n",
              "      <th>1</th>\n",
              "      <td>16227</td>\n",
              "      <td>NaN</td>\n",
              "      <td>Guatemala</td>\n",
              "      <td>15.7835</td>\n",
              "      <td>-90.2308</td>\n",
              "      <td>2020-03-23</td>\n",
              "      <td>20</td>\n",
              "      <td>1</td>\n",
              "      <td>0</td>\n",
              "      <td>2.995732</td>\n",
              "      <td>1</td>\n",
              "    </tr>\n",
              "    <tr>\n",
              "      <th>2</th>\n",
              "      <td>16491</td>\n",
              "      <td>NaN</td>\n",
              "      <td>Guatemala</td>\n",
              "      <td>15.7835</td>\n",
              "      <td>-90.2308</td>\n",
              "      <td>2020-03-24</td>\n",
              "      <td>21</td>\n",
              "      <td>1</td>\n",
              "      <td>0</td>\n",
              "      <td>3.044522</td>\n",
              "      <td>2</td>\n",
              "    </tr>\n",
              "    <tr>\n",
              "      <th>3</th>\n",
              "      <td>16755</td>\n",
              "      <td>NaN</td>\n",
              "      <td>Guatemala</td>\n",
              "      <td>15.7835</td>\n",
              "      <td>-90.2308</td>\n",
              "      <td>2020-03-25</td>\n",
              "      <td>24</td>\n",
              "      <td>1</td>\n",
              "      <td>4</td>\n",
              "      <td>3.178054</td>\n",
              "      <td>3</td>\n",
              "    </tr>\n",
              "  </tbody>\n",
              "</table>\n",
              "</div>"
            ],
            "text/plain": [
              "   index Province/State Country/Region  ...  Recovered  ln(Confirmed) Nday\n",
              "0  15963            NaN      Guatemala  ...          0       2.944439    0\n",
              "1  16227            NaN      Guatemala  ...          0       2.995732    1\n",
              "2  16491            NaN      Guatemala  ...          0       3.044522    2\n",
              "3  16755            NaN      Guatemala  ...          4       3.178054    3\n",
              "\n",
              "[4 rows x 11 columns]"
            ]
          },
          "metadata": {
            "tags": []
          },
          "execution_count": 132
        }
      ]
    },
    {
      "cell_type": "code",
      "metadata": {
        "id": "C6tW54PmjFz3"
      },
      "source": [
        "class ModeloLineal:\n",
        "  def __init__(self):\n",
        "    self.mb = tf.get_variable(\"pendiente-intercepto\",dtype=tf.float32, shape=[2,1],\n",
        "                     initializer=tf.zeros_initializer())\n",
        "\n",
        "  def __call__(self,x, tamaño_muestra_x):\n",
        "    x_1 = tf.stack([x, np.ones(tamaño_muestra_x)], axis=1, name='x_1_temp')\n",
        "    return tf.matmul(x_1, self.mb, name=\"y_hat\")\n",
        "\n",
        "  def actualizar(self,x,y,tamaño_muestra_x,tamaño_muestra_y,learning_rate):\n",
        "    y_hat = self(x, tamaño_muestra_x)\n",
        "    x_1 = tf.stack([x, np.ones(tamaño_muestra_x)], axis=1, name='x_1')\n",
        "    y_1 = y_hat - tf.reshape(y, [tamaño_muestra_y,1])\n",
        "    gradientes = tf.math.reduce_mean(x_1 * y_1, axis=0, name=\"gradientes\")\n",
        "    actualizacion_mb = tf.assign(self.mb, self.mb - tf.reshape(gradientes*learning_rate, [2,1]), name=\"actualizacion_mb\")\n",
        "    return actualizacion_mb"
      ],
      "execution_count": 174,
      "outputs": []
    },
    {
      "cell_type": "code",
      "metadata": {
        "id": "ZxSMmSkSjRGF"
      },
      "source": [
        "def ejecutar_modelo(learning_rate, batch_size, epochs, x, y):\n",
        "  tf.compat.v1.reset_default_graph()\n",
        "  tamaño_muestra_x = len(x)\n",
        "  tamaño_muestra_y = len(y)\n",
        "  tf.compat.v1.reset_default_graph()\n",
        "\n",
        "  tensor_x = tf.placeholder(dtype=tf.float32, shape=[tamaño_muestra_x], name=\"tensor_x\")\n",
        "  tensor_y = tf.placeholder(dtype=tf.float32, shape=[tamaño_muestra_y], name=\"tensor_y\")\n",
        "\n",
        "  modelo = ModeloLineal()\n",
        "\n",
        "  actualizacion_parametros = modelo.actualizar(tensor_x,tensor_y,tamaño_muestra_x,tamaño_muestra_y,learning_rate)\n",
        "\n",
        "  with tf.train.MonitoredSession() as session:\n",
        "    for epoch in range(epochs):\n",
        "      feed_dict = {tensor_x:x, tensor_y:y}\n",
        "      _,mb = session.run([actualizacion_parametros,modelo.mb],feed_dict=feed_dict)        \n",
        "  return mb"
      ],
      "execution_count": 186,
      "outputs": []
    },
    {
      "cell_type": "code",
      "metadata": {
        "colab": {
          "base_uri": "https://localhost:8080/"
        },
        "id": "SeG0febakCyj",
        "outputId": "e5e7f819-b3e1-4c52-f290-6041cff6702a"
      },
      "source": [
        "learning_rate = 0.003\n",
        "batch_size = 10\n",
        "epochs = 10000\n",
        "\n",
        "x = training['Nday'].to_numpy()\n",
        "y = training['ln(Confirmed)'].to_numpy()\n",
        "\n",
        "mb = ejecutar_modelo(learning_rate, batch_size, epochs, x, y)\n",
        "print(mb)"
      ],
      "execution_count": 218,
      "outputs": [
        {
          "output_type": "stream",
          "text": [
            "INFO:tensorflow:Graph was finalized.\n",
            "INFO:tensorflow:Running local_init_op.\n",
            "INFO:tensorflow:Done running local_init_op.\n",
            "[[0.09454745]\n",
            " [2.8764594 ]]\n"
          ],
          "name": "stdout"
        }
      ]
    },
    {
      "cell_type": "code",
      "metadata": {
        "colab": {
          "base_uri": "https://localhost:8080/",
          "height": 282
        },
        "id": "r1vvfSqvrQlF",
        "outputId": "3607b0dc-2d83-4a10-a2ce-867c329c2ee8"
      },
      "source": [
        "x_vals = np.arange(0,40)\n",
        "y_vals = mb[1,0] + mb[0,0] * x_vals\n",
        "\n",
        "plt.plot(x_vals, y_vals)\n",
        "plt.plot(x,y)\n",
        "\n",
        "plt.legend([\"Dataset 1\", \"Dataset 2\"])"
      ],
      "execution_count": 219,
      "outputs": [
        {
          "output_type": "execute_result",
          "data": {
            "text/plain": [
              "<matplotlib.legend.Legend at 0x7f98855c6c50>"
            ]
          },
          "metadata": {
            "tags": []
          },
          "execution_count": 219
        },
        {
          "output_type": "display_data",
          "data": {
            "image/png": "[encoded data removed]",
            "text/plain": [
              "<Figure size 432x288 with 1 Axes>"
            ]
          },
          "metadata": {
            "tags": [],
            "needs_background": "light"
          }
        }
      ]
    },
    {
      "cell_type": "code",
      "metadata": {
        "colab": {
          "base_uri": "https://localhost:8080/"
        },
        "id": "6Vem2ir0ue6q",
        "outputId": "68f22760-a931-4b78-d319-7d5c055d9262"
      },
      "source": [
        "x_test = validation['Nday'].to_numpy()\n",
        "y_test = validation['ln(Confirmed)'].to_numpy()\n",
        "\n",
        "def prediccion(mb, x, dataframe):\n",
        "  x_1 = np.column_stack((x,np.ones(len(x))))\n",
        "  pred_modelo_manual = np.dot(x_1, mb)\n",
        "  pred_modelo_manual = np.reshape(pred_modelo_manual, (1, len(pred_modelo_manual)))[0]\n",
        "  if dataframe:\n",
        "    data = {'ln(Confirmed)':  pred_modelo_manual}\n",
        "    df = pd.DataFrame (data, columns = ['ln(Confirmed)'])\n",
        "    return df\n",
        "  else:\n",
        "    return pred_modelo_manual\n",
        "\n",
        "def rmse(y, y_hat):\n",
        "  return np.mean(np.power(y-y_hat, 2))*0.5 \n",
        "\n",
        "y_validation = prediccion(mb, x_test, dataframe=False)\n",
        "y_validation_1 = prediccion(mb, x_test, dataframe=True)\n",
        "print(rmse(y_validation, y_test))"
      ],
      "execution_count": 262,
      "outputs": [
        {
          "output_type": "stream",
          "text": [
            "0.08839994157655169\n"
          ],
          "name": "stdout"
        }
      ]
    },
    {
      "cell_type": "code",
      "metadata": {
        "colab": {
          "base_uri": "https://localhost:8080/",
          "height": 80
        },
        "id": "5AA8LOddyHrG",
        "outputId": "c9b1765c-91ff-4552-c452-48764e01e8d0"
      },
      "source": [
        "def calcular_casos(fecha, mb):\n",
        "  fecha_inicial = datetime.strptime('22-03-2020', '%d-%m-%Y')\n",
        "  fecha_calculo = datetime.strptime(fecha, '%d-%m-%Y')\n",
        "  dias = [(fecha_calculo - fecha_inicial).days]\n",
        "  return transform_dataset(prediccion(mb, dias, dataframe=True), 'Confirmed', inv=True)[['Confirmed']]\n",
        "\n",
        "calcular_casos('30-05-2020', mb)\n"
      ],
      "execution_count": 265,
      "outputs": [
        {
          "output_type": "execute_result",
          "data": {
            "text/html": [
              "<div>\n",
              "<style scoped>\n",
              "    .dataframe tbody tr th:only-of-type {\n",
              "        vertical-align: middle;\n",
              "    }\n",
              "\n",
              "    .dataframe tbody tr th {\n",
              "        vertical-align: top;\n",
              "    }\n",
              "\n",
              "    .dataframe thead th {\n",
              "        text-align: right;\n",
              "    }\n",
              "</style>\n",
              "<table border=\"1\" class=\"dataframe\">\n",
              "  <thead>\n",
              "    <tr style=\"text-align: right;\">\n",
              "      <th></th>\n",
              "      <th>Confirmed</th>\n",
              "    </tr>\n",
              "  </thead>\n",
              "  <tbody>\n",
              "    <tr>\n",
              "      <th>0</th>\n",
              "      <td>12091.203063</td>\n",
              "    </tr>\n",
              "  </tbody>\n",
              "</table>\n",
              "</div>"
            ],
            "text/plain": [
              "      Confirmed\n",
              "0  12091.203063"
            ]
          },
          "metadata": {
            "tags": []
          },
          "execution_count": 265
        }
      ]
    }
  ]
}